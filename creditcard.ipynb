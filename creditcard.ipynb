{
 "cells": [
  {
   "cell_type": "code",
   "execution_count": 1,
   "metadata": {
    "colab": {
     "autoexec": {
      "startup": false,
      "wait_interval": 0
     },
     "base_uri": "https://localhost:8080/",
     "height": 34
    },
    "colab_type": "code",
    "executionInfo": {
     "elapsed": 8648,
     "status": "ok",
     "timestamp": 1533131725404,
     "user": {
      "displayName": "Victor Lopez Selva",
      "photoUrl": "https://lh3.googleusercontent.com/a/default-user=s128",
      "userId": "112721930078822074051"
     },
     "user_tz": 240
    },
    "id": "MvxIzwV4xJoz",
    "outputId": "178506cd-87cd-43af-d9e6-3de4a8ee57a0"
   },
   "outputs": [
    {
     "name": "stderr",
     "output_type": "stream",
     "text": [
      "/home/lopez/anaconda3/lib/python3.6/site-packages/h5py/__init__.py:36: FutureWarning: Conversion of the second argument of issubdtype from `float` to `np.floating` is deprecated. In future, it will be treated as `np.float64 == np.dtype(float).type`.\n",
      "  from ._conv import register_converters as _register_converters\n",
      "Using TensorFlow backend.\n"
     ]
    }
   ],
   "source": [
    "from autosklearn.classification import AutoSklearnClassifier\n",
    "import configparser\n",
    "import json\n",
    "import logging\n",
    "import pandas as pd\n",
    "import numpy as np\n",
    "from sklearn.preprocessing import StandardScaler\n",
    "from sklearn.model_selection import train_test_split, RandomizedSearchCV, GridSearchCV, StratifiedKFold\n",
    "from imblearn.under_sampling import RandomUnderSampler\n",
    "from imblearn.over_sampling import SMOTE\n",
    "from imblearn.combine import SMOTEENN\n",
    "from sklearn.linear_model import LogisticRegression\n",
    "from sklearn.ensemble import RandomForestClassifier\n",
    "from sklearn.neural_network import MLPClassifier\n",
    "from sklearn.metrics import accuracy_score, recall_score, precision_score, confusion_matrix, f1_score, auc, roc_curve\n",
    "from sklearn.externals import joblib\n",
    "import os\n",
    "from datetime import date, timedelta\n",
    "import random\n",
    "import datetime as dt\n",
    "import tensorflow.contrib.keras as keras\n",
    "from keras.models import Sequential\n",
    "from sklearn.feature_selection import RFE\n",
    "import math\n",
    "from imblearn.pipeline import Pipeline\n",
    "from sklearn.cluster import KMeans\n",
    "import matplotlib.pyplot as plt\n",
    "from xgboost import XGBClassifier\n",
    "import seaborn as sns\n",
    "%run ml_custom_fn.ipynb\n",
    "import MLModelManager\n",
    "import warnings\n",
    "warnings.filterwarnings('ignore')"
   ]
  },
  {
   "cell_type": "code",
   "execution_count": 2,
   "metadata": {
    "colab": {
     "autoexec": {
      "startup": false,
      "wait_interval": 0
     }
    },
    "colab_type": "code",
    "id": "spOIyvpGxJo5"
   },
   "outputs": [],
   "source": [
    "train = pd.read_csv('creditcard.csv')"
   ]
  },
  {
   "cell_type": "code",
   "execution_count": 3,
   "metadata": {},
   "outputs": [],
   "source": [
    "train = train[train['Class']==1].append(train[train['Class']==0].sample(5000))"
   ]
  },
  {
   "cell_type": "code",
   "execution_count": 4,
   "metadata": {
    "colab": {
     "autoexec": {
      "startup": false,
      "wait_interval": 0
     }
    },
    "colab_type": "code",
    "id": "fbQ5I8rAxJo8"
   },
   "outputs": [],
   "source": [
    "label = 'Class'\n",
    "features = train.loc[:, train.columns != label].columns.values.tolist()\n",
    "\n",
    "y = train[label].as_matrix()\n",
    "X = train[features].as_matrix()\n",
    "\n",
    "X_train, X_test, y_train, y_test = train_test_split(X, y, test_size=0.4, stratify = y, random_state = 1)\n",
    "\n",
    "cv = 5\n",
    "kpi = 'f1'"
   ]
  },
  {
   "cell_type": "code",
   "execution_count": 5,
   "metadata": {
    "colab": {
     "autoexec": {
      "startup": false,
      "wait_interval": 0
     }
    },
    "colab_type": "code",
    "id": "TWtlzX4rxJpA"
   },
   "outputs": [],
   "source": [
    "ml_mgr = MLModelManager.MLModelManager()"
   ]
  },
  {
   "cell_type": "code",
   "execution_count": 6,
   "metadata": {
    "colab": {
     "autoexec": {
      "startup": false,
      "wait_interval": 0
     }
    },
    "colab_type": "code",
    "id": "kS3SNGmjxJpE"
   },
   "outputs": [],
   "source": [
    "# strategies to try\n",
    "resampling_strategies = ['none', 'underssampling', 'smote', 'undersample-smote']\n",
    "\n",
    "# define pipelines\n",
    "rus = RandomUnderSampler(random_state = 1)\n",
    "rus25 = RandomUnderSampler(ratio = 0.25, random_state = 1)\n",
    "sm = SMOTE(random_state = 1, n_jobs = -1)\n",
    "\n",
    "# specify models\n",
    "rf = RandomForestClassifier(n_jobs = -1, random_state = 1)\n",
    "lr = LogisticRegression(n_jobs = -1, random_state = 1)\n",
    "xgb = XGBClassifier(n_jobs = -1, random_state = 1)\n",
    "\n",
    "models = [rf, lr, xgb]\n",
    "model_names = ['random_forest', 'logistic_regression', 'xgboost', 'auto_sklearn']\n",
    "\n",
    "# params\n",
    "rf_params = {'ml__max_depth' : list(range(2,5)),\n",
    "    'ml__n_estimators' : [5,10,15,20],\n",
    "    'ml__max_features' : ['auto','sqrt'],\n",
    "    'ml__min_samples_split' : [2, 5, 10],\n",
    "    'ml__min_samples_leaf' : [1, 2, 4],\n",
    "    'ml__bootstrap' : [True, False]\n",
    "}\n",
    "\n",
    "lr_params = params = {'ml__penalty' : ['l1', 'l2'],\n",
    "          'ml__C' : [0.001, 0.01, 0.1, 0.2, 0.3, 0.5, 0.7],\n",
    "          'ml__fit_intercept' : [True, False]}\n",
    "\n",
    "xgb_params = {'ml__booster' : ['gbtree', 'gblinear', 'dart']\n",
    "         , 'ml__learning_rate' : [0.001, 0.01, 0.3, 0.5]\n",
    "         , 'ml__max_depth' : [3, 6, 9]}\n",
    "\n",
    "params = [rf_params, lr_params, xgb_params]"
   ]
  },
  {
   "cell_type": "markdown",
   "metadata": {},
   "source": [
    "# Ignore the problem"
   ]
  },
  {
   "cell_type": "code",
   "execution_count": 7,
   "metadata": {},
   "outputs": [],
   "source": [
    "for ix in range(0, len(models)):\n",
    "    pipeline = Pipeline([('ml', models[ix])])\n",
    "    \n",
    "#     grid = RandomizedSearchCV(pipeline, param_distributions = params[ix], scoring = kpi, cv = cv, random_state = 1, n_jobs = -1)\n",
    "    grid = GridSearchCV(pipeline, param_grid = params[ix], scoring = kpi, cv = cv, n_jobs = -1)\n",
    "    \n",
    "    grid.fit(X_train, y_train)\n",
    "    \n",
    "    predictions = grid.predict(X_test)\n",
    "\n",
    "    setup = {}\n",
    "\n",
    "    setup['eval_metrics'] = get_eval_metrics(y_test, predictions)\n",
    "    setup['details'] = {'resampling_strategy' : resampling_strategies[ix], 'algorithm' : model_names[ix]}\n",
    "    setup['params'] = grid.best_params_\n",
    "\n",
    "    ml_mgr.save_setup(setup)"
   ]
  },
  {
   "cell_type": "markdown",
   "metadata": {},
   "source": [
    "# Undersample"
   ]
  },
  {
   "cell_type": "code",
   "execution_count": 8,
   "metadata": {},
   "outputs": [],
   "source": [
    "for ix in range(0, len(models)):\n",
    "    pipeline = Pipeline([('rus', rus), ('ml', models[ix])])\n",
    "    \n",
    "#     grid = RandomizedSearchCV(pipeline, param_distributions = params[ix], scoring = kpi, cv = cv, random_state = 1, n_jobs = -1)\n",
    "    grid = GridSearchCV(pipeline, param_grid = params[ix], scoring = kpi, cv = cv, n_jobs = -1)\n",
    "\n",
    "    grid.fit(X_train, y_train)\n",
    "\n",
    "    predictions = grid.predict(X_test)\n",
    "\n",
    "    setup = {}\n",
    "\n",
    "    setup['eval_metrics'] = get_eval_metrics(y_test, predictions)\n",
    "    setup['details'] = {'resampling_strategy' : resampling_strategies[ix], 'algorithm' : model_names[ix]}\n",
    "    setup['params'] = grid.best_params_\n",
    "\n",
    "    ml_mgr.save_setup(setup)"
   ]
  },
  {
   "cell_type": "markdown",
   "metadata": {},
   "source": [
    "# Oversample"
   ]
  },
  {
   "cell_type": "code",
   "execution_count": 9,
   "metadata": {},
   "outputs": [],
   "source": [
    "for ix in range(0, len(models)):\n",
    "    pipeline = Pipeline([('sm', sm), ('ml', models[ix])])\n",
    "    \n",
    "#     grid = RandomizedSearchCV(pipeline, param_distributions = params[ix], scoring = kpi, cv = cv, random_state = 1, n_jobs = -1)\n",
    "    grid = GridSearchCV(pipeline, param_grid = params[ix], scoring = kpi, cv = cv, n_jobs = -1)\n",
    "\n",
    "    grid.fit(X_train, y_train)\n",
    "    \n",
    "    predictions = grid.predict(X_test)\n",
    "\n",
    "    setup = {}\n",
    "\n",
    "    setup['eval_metrics'] = get_eval_metrics(y_test, predictions)\n",
    "    setup['details'] = {'resampling_strategy' : resampling_strategies[ix], 'algorithm' : model_names[ix]}\n",
    "    setup['params'] = grid.best_params_\n",
    "\n",
    "    ml_mgr.save_setup(setup)"
   ]
  },
  {
   "cell_type": "markdown",
   "metadata": {},
   "source": [
    "# Oversample + Undersample"
   ]
  },
  {
   "cell_type": "code",
   "execution_count": 10,
   "metadata": {},
   "outputs": [],
   "source": [
    "for ix in range(0, len(models)):\n",
    "    pipeline = Pipeline([('rus25', rus25), ('sm', sm), ('ml', models[ix])])\n",
    "    \n",
    "#     grid = RandomizedSearchCV(pipeline, param_distributions = params[ix], scoring = kpi, cv = cv, random_state = 1, n_jobs = -1)\n",
    "    grid = GridSearchCV(pipeline, param_grid = params[ix], scoring = kpi, cv = cv, n_jobs = -1)\n",
    "\n",
    "    grid.fit(X_train, y_train)\n",
    "    \n",
    "    predictions = grid.predict(X_test)\n",
    "\n",
    "    setup = {}\n",
    "\n",
    "    setup['eval_metrics'] = get_eval_metrics(y_test, predictions)\n",
    "    setup['details'] = {'resampling_strategy' : resampling_strategies[ix], 'algorithm' : model_names[ix]}\n",
    "    setup['params'] = grid.best_params_\n",
    "\n",
    "    ml_mgr.save_setup(setup)"
   ]
  },
  {
   "cell_type": "code",
   "execution_count": 11,
   "metadata": {},
   "outputs": [
    {
     "data": {
      "text/plain": [
       "{'eval_metrics': {'accuracy': 0.9840691852526172,\n",
       "  'recall': 0.8324873096446701,\n",
       "  'precision': 0.9879518072289156,\n",
       "  'lift': 11.017919393309276,\n",
       "  'f1': 0.9035812672176308,\n",
       "  'auc_score': 0.915743654822335},\n",
       " 'details': {'resampling_strategy': 'none', 'algorithm': 'random_forest'},\n",
       " 'params': {'ml__bootstrap': True,\n",
       "  'ml__max_depth': 4,\n",
       "  'ml__max_features': 'auto',\n",
       "  'ml__min_samples_leaf': 2,\n",
       "  'ml__min_samples_split': 5,\n",
       "  'ml__n_estimators': 10}}"
      ]
     },
     "execution_count": 11,
     "metadata": {},
     "output_type": "execute_result"
    }
   ],
   "source": [
    "ml_mgr.get_best_model('f1')"
   ]
  },
  {
   "cell_type": "code",
   "execution_count": null,
   "metadata": {},
   "outputs": [],
   "source": []
  },
  {
   "cell_type": "code",
   "execution_count": null,
   "metadata": {},
   "outputs": [],
   "source": []
  },
  {
   "cell_type": "code",
   "execution_count": null,
   "metadata": {},
   "outputs": [],
   "source": []
  },
  {
   "cell_type": "code",
   "execution_count": null,
   "metadata": {},
   "outputs": [],
   "source": []
  },
  {
   "cell_type": "code",
   "execution_count": null,
   "metadata": {},
   "outputs": [],
   "source": []
  },
  {
   "cell_type": "code",
   "execution_count": null,
   "metadata": {},
   "outputs": [],
   "source": []
  },
  {
   "cell_type": "code",
   "execution_count": null,
   "metadata": {},
   "outputs": [],
   "source": []
  },
  {
   "cell_type": "code",
   "execution_count": null,
   "metadata": {},
   "outputs": [],
   "source": []
  },
  {
   "cell_type": "code",
   "execution_count": null,
   "metadata": {},
   "outputs": [],
   "source": []
  },
  {
   "cell_type": "code",
   "execution_count": null,
   "metadata": {
    "colab": {
     "autoexec": {
      "startup": false,
      "wait_interval": 0
     }
    },
    "colab_type": "code",
    "id": "O7LQO2EHxJqB"
   },
   "outputs": [],
   "source": []
  }
 ],
 "metadata": {
  "colab": {
   "default_view": {},
   "name": "creditcard.ipynb",
   "provenance": [],
   "version": "0.3.2",
   "views": {}
  },
  "kernelspec": {
   "display_name": "Python 3",
   "language": "python",
   "name": "python3"
  },
  "language_info": {
   "codemirror_mode": {
    "name": "ipython",
    "version": 3
   },
   "file_extension": ".py",
   "mimetype": "text/x-python",
   "name": "python",
   "nbconvert_exporter": "python",
   "pygments_lexer": "ipython3",
   "version": "3.6.5"
  }
 },
 "nbformat": 4,
 "nbformat_minor": 1
}
