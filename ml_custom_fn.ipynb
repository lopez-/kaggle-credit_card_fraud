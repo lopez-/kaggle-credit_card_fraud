{
 "cells": [
  {
   "cell_type": "code",
   "execution_count": null,
   "metadata": {},
   "outputs": [],
   "source": [
    "# when rebalancing a dataset is required in a binary setup (e.g. 0 vs 1)\n",
    "# this function can be used to calculate different class ratios\n",
    "\n",
    "# for example, if a dataset contains 15% of churns we may want to test\n",
    "# how does the model behaves when there is a list of ratios from 15% up to 90%\n",
    "def calculate_balance_rates(original_balance_rate,n_max=None,ranges=0.1):\n",
    "    from math import ceil\n",
    "    rates = []\n",
    "    rates.append(original_balance_rate)\n",
    "    next_rate = ceil(original_balance_rate/ranges)*ranges\n",
    "    \n",
    "    while(next_rate<1):\n",
    "        rates.append(next_rate)\n",
    "        next_rate = round( next_rate + ranges ,3)\n",
    "    \n",
    "    if n_max is not None:\n",
    "        if n_max < len(rates):\n",
    "            rates = rates[0:n_max]\n",
    "    \n",
    "    return rates"
   ]
  },
  {
   "cell_type": "code",
   "execution_count": null,
   "metadata": {},
   "outputs": [],
   "source": [
    "# Lift tells how much better a classifier predicts compared to a random selection. It compares the precision to the overall churn rate in the test set\n",
    "def lift_score(actuals, predictions):\n",
    "    from sklearn.metrics import precision_score\n",
    "    \n",
    "    precision = precision_score(actuals,predictions)\n",
    "    positive_rate = actuals.sum() / actuals.size\n",
    "    \n",
    "    lift = precision/positive_rate\n",
    "    \n",
    "    return(lift)"
   ]
  },
  {
   "cell_type": "code",
   "execution_count": null,
   "metadata": {},
   "outputs": [],
   "source": [
    "def get_eval_metrics(y, predictions):\n",
    "      \n",
    "    eval_metrics = {}\n",
    "    eval_metrics['accuracy'] = accuracy_score(y, predictions)\n",
    "    eval_metrics['recall'] = recall_score(y, predictions)\n",
    "    eval_metrics['precision'] = precision_score(y, predictions)\n",
    "    eval_metrics['lift'] = lift_score(y, predictions)\n",
    "    eval_metrics['f1'] = f1_score(y, predictions)\n",
    "    fpr, tpr, _ = roc_curve(y, predictions)\n",
    "    eval_metrics['auc_score'] = auc(fpr,tpr)\n",
    "    \n",
    "    return(eval_metrics)"
   ]
  },
  {
   "cell_type": "code",
   "execution_count": null,
   "metadata": {},
   "outputs": [],
   "source": [
    "def y_fn(y, desired_minority_rate, minority_class = 0):\n",
    "    from math import ceil\n",
    "    \n",
    "    rate0 = len(y[y==0])/len(y)\n",
    "    \n",
    "    if rate0 > 0.5:\n",
    "        minority_class = 1\n",
    "        majority_class = 0\n",
    "    else:\n",
    "        minority_class = 0\n",
    "        majority_class = 1\n",
    "    \n",
    "    maj_rate = len(y[y==majority_class])/len(y)\n",
    "    min_rate = 1-maj_rate\n",
    "    \n",
    "    y_min = len(y[y==minority_class])\n",
    "    y_maj = len(y[y==majority_class])\n",
    "    \n",
    "    new_sample_split = {}\n",
    "    new_sample_split[majority_class] = y_maj\n",
    "    if desired_minority_rate > min_rate:\n",
    "        sample_size_rs = ceil(y_maj/(1-desired_minority_rate))\n",
    "        y_min_rs = ceil(sample_size_rs*desired_minority_rate)\n",
    "        \n",
    "        new_sample_split[minority_class] = y_min_rs\n",
    "    else:\n",
    "        new_sample_split[minority_class] = y_min\n",
    "        \n",
    "    return(new_sample_split)\n"
   ]
  }
 ],
 "metadata": {
  "kernelspec": {
   "display_name": "Python 3",
   "language": "python",
   "name": "python3"
  },
  "language_info": {
   "codemirror_mode": {
    "name": "ipython",
    "version": 3
   },
   "file_extension": ".py",
   "mimetype": "text/x-python",
   "name": "python",
   "nbconvert_exporter": "python",
   "pygments_lexer": "ipython3",
   "version": "3.6.5"
  }
 },
 "nbformat": 4,
 "nbformat_minor": 2
}
